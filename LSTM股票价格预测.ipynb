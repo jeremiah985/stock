{
 "cells": [
  {
   "cell_type": "code",
   "execution_count": null,
   "metadata": {},
   "outputs": [],
   "source": [
    "import numpy as np\n",
    "import pandas as pd\n",
    "#numpy是一个矩阵运算库\n",
    "#pandas是一个更高级的矩阵运算库，可以处理缺失，重复，异常的数值\n"
   ]
  },
  {
   "cell_type": "code",
   "execution_count": null,
   "metadata": {},
   "outputs": [],
   "source": [
    "filepath='D:\\\\Stock prediction\\\\jupyter\\\\data\\\\rlData.csv'\n",
    "# 这里的路径是自己的,一定要注意文件格式，要加“   \\\\   ”\n",
    "data=pd.read_csv(filepath)\n",
    "#用read_csv函数来读取文件的同时将文件保存在一个data变量中\n",
    "#这之后data就是一个DataFrame的变量了（一个二维表格数据结构）\n",
    "#DataFrame对象对数据进行各种操作，如数据清洗、处理、分析和可视化等。\n",
    "data=data.sort_values('Date')\n",
    "#这是一个按日期来排序的函数，data现在已经按日期拍好序列了\n",
    "data.head()\n",
    "#这个函数默认能够查看对象（dataframe）表格的前五行数据，可以通过传入int来表示查看前几行数据\n",
    "data.shape\n",
    "#可以查看表的维度"
   ]
  },
  {
   "cell_type": "code",
   "execution_count": null,
   "metadata": {},
   "outputs": [],
   "source": [
    "import matplotlib.pyplot as plt\n",
    "#绘制图形\n",
    "import seaborn as sns\n",
    "#数据可视化的更高级的库\n",
    "sns.set_style(\"darkgrid\")\n",
    "#调用一种深色风格的图表，这在seaborn中是已经预先定义好的\n",
    "plt.figure(figsize = (15,9))\n",
    "#创建一个指定大小的窗口\n",
    "#问题：我如何确定这两者是作用在同一个窗口上的呢？\n",
    "plt.plot(data[['Close']])\n",
    "#从这里来看sns.setstyle好像没用\n",
    "plt.xticks(range(0,data.shape[0],20),data['Date'].loc[::20],rotation=45)\n",
    "#把横坐标换成了日期\n",
    "#range函数设置了间隔，\n",
    "# data['Date'].loc[::20]的结果是一个包含原始Date列中每隔20个位置的值的子集\n",
    "#其原因在于横坐标不能够太过于稠密\n",
    "plt.title(\"****** stock price\",fontsize=18,fontweight='bold')\n",
    "#三个参量，一个标题，一个大小，一个加粗\n",
    "plt.xlabel('Date',fontsize=18)\n",
    "plt.ylabel('close price',fontsize=18)\n",
    "plt.show()      \n"
   ]
  },
  {
   "cell_type": "code",
   "execution_count": null,
   "metadata": {},
   "outputs": [],
   "source": []
  },
  {
   "cell_type": "markdown",
   "metadata": {},
   "source": [
    "  到这里而言我们实现了股票数据（csv格式）的可视化\n",
    "\n",
    "\n",
    "  下一步就是要提取出有价值的信息\n"
   ]
  },
  {
   "cell_type": "code",
   "execution_count": null,
   "metadata": {},
   "outputs": [],
   "source": [
    "price=data[['Close','Low']]\n",
    "price.head(6)\n",
    "##price.info\n",
    "##输出信息\n"
   ]
  },
  {
   "cell_type": "markdown",
   "metadata": {},
   "source": [
    "归一化操作\n"
   ]
  },
  {
   "cell_type": "code",
   "execution_count": null,
   "metadata": {},
   "outputs": [],
   "source": [
    "#归一化操作（在py中直接封装成函数了）\n",
    "from sklearn.preprocessing import MinMaxScaler\n",
    "scaler=MinMaxScaler(feature_range=(-1,1))\n",
    "#MinMaxScaler是一个库函数，其内有归一化处理的操作，可以换范围\n",
    "price['Close']=scaler.fit_transform(price['Close'].values.reshape(-1,1))\n",
    "#对Close进行归一化\n",
    "price['Low']=scaler.fit_transform(price['Low'].values.reshape(-1,1))\n",
    "#对Low进行归一化操作\n",
    "price\n",
    "##你现在对数据进行缩放，显示结果后要反缩放回去\n"
   ]
  },
  {
   "cell_type": "markdown",
   "metadata": {},
   "source": [
    "制作数据集"
   ]
  },
  {
   "cell_type": "code",
   "execution_count": null,
   "metadata": {},
   "outputs": [],
   "source": [
    "def split_data(stock,lookback):\n",
    "    #把数据集划分为训练集和测试集合\n",
    "    ##lookback是一个指定的训练集合长度\n",
    "    data_raw=stock.to_numpy()\n",
    "    #stock在这里是不是一个dataframe对象呀？\n",
    "    #这里是调用了“to_numpy”函数，表示能够将stock数据转化为numpy数组\n",
    "    data=[]\n",
    "    #创建一个空链表，用来存储切片后的数据\n",
    "    #data在这里就是一个表格，\n",
    "    #py中的切片操作，没有传入是默认开始于0，结束于0，步长为1\n",
    "    for index in range(len(data_raw)-lookback):\n",
    "        data.append(data_raw[index:index+lookback])\n",
    "        #有一个py中常用的切片操作\n",
    "        #把已经划分好的股票数据加入到data中去\n",
    "    data=np.array(data)\n",
    "    #将data转换为numpy类型\n",
    "    test_set_size=int (np.round(0.2*data.shape[0]))\n",
    "    ##np.round是一个四舍五入的函数,也可以使用(int)来进行转换，不过数据就只是向下取整了\n",
    "    ##当然，你可以换一种方式来提高效率比如(int)(0.2*data.shape[0]+0.5)\n",
    "    #data.shape[0]返回的是数组的第一个维度的大小\n",
    "    train_set_size =data.shape[0]-(test_set_size)\n",
    "    #训练集的大小\n",
    "    x_train=data[:train_set_size,:-1,:]#这是训练特征集\n",
    "    #假设为（深度，高度，宽度）\n",
    "    #这里有三个维度(\",\"划分出来)，且听我细细道来：假设有一百个元素\n",
    "    #1：从0到80就是训练集     深度的前80\n",
    "    #2：从“0”所指代的元素(实际上的大小为步长，从[0,0]到[0,1],留下了最后一个[0,2])\n",
    "        #每一个高度的除最后一个的所有元素\n",
    "    #3：宽度的所有\n",
    "    y_train=data[:train_set_size,:-1,:]#这是训练标签集\n",
    "    x_test=data[train_set_size:,:-1]#测试特征集\n",
    "    y_test=data[train_set_size:,-1,:]#测试标签集\n",
    "    \n",
    "    return [x_train,y_train,x_test,y_test]\n",
    "  ##叮！ https://yiyan.baidu.com/share/DqLQASp1VH \n",
    "    "
   ]
  },
  {
   "cell_type": "code",
   "execution_count": null,
   "metadata": {},
   "outputs": [],
   "source": [
    "lookback = 20\n",
    "#这里是对数据集中的一个最小单位来指定的步长进行操作\n",
    "x_train, y_train, x_test, y_test = split_data(price, lookback)\n",
    "#调用了上方的一个函数\n",
    "print('x_train.shape = ',x_train.shape)\n",
    "print('y_train.shape = ',y_train.shape)\n",
    "print('x_test.shape = ',x_test.shape)\n",
    "print('y_test.shape = ',y_test.shape)\n",
    "\n",
    "##不对！！！！！！最后的一个\n",
    "\n",
    "##如果加上low的变量，最后一点就是2\n"
   ]
  },
  {
   "cell_type": "code",
   "execution_count": null,
   "metadata": {},
   "outputs": [],
   "source": []
  },
  {
   "cell_type": "markdown",
   "metadata": {},
   "source": [
    "3.模型的构建\n",
    "\n",
    "我们已经完成了数据的可视化（简单版），对要处理的数据进行归一化操作，训练集测试集的划分\n"
   ]
  },
  {
   "cell_type": "code",
   "execution_count": null,
   "metadata": {},
   "outputs": [],
   "source": [
    "import torch\n",
    "import torch.nn as nn\n",
    "\n",
    "x_train = torch.from_numpy(x_train).type(torch.Tensor)\n",
    "#将numpy类型转换为tensor类型\n",
    "x_test = torch.from_numpy(x_test).type(torch.Tensor)\n",
    "y_train_lstm = torch.from_numpy(y_train).type(torch.Tensor)\n",
    "y_test_lstm = torch.from_numpy(y_test).type(torch.Tensor)\n",
    "y_train_gru = torch.from_numpy(y_train).type(torch.Tensor)\n",
    "y_test_gru = torch.from_numpy(y_test).type(torch.Tensor)"
   ]
  },
  {
   "cell_type": "code",
   "execution_count": null,
   "metadata": {},
   "outputs": [],
   "source": [
    "input_dim=1\n",
    "#输入数据的特征维度。表示输入数据每个样本有一个特征\n",
    "\n",
    "hidden_dim=32\n",
    "#隐藏层的维度，模型中隐藏层的神经元数量\n",
    "\n",
    "num_layers=2\n",
    "#模型中的层数。这里表示包含两个隐藏层\n",
    "\n",
    "output_dim=1\n",
    "#输出数据的维度\n",
    "\n",
    "num_epochs=100\n",
    "#训练的轮数，表示对训练集进行100次训练\n",
    "#并不是训练轮数越多越好，注意过拟合的问题\n",
    "\n",
    "\n"
   ]
  },
  {
   "cell_type": "code",
   "execution_count": null,
   "metadata": {},
   "outputs": [],
   "source": [
    "#定义一个LSTM模型，完全不会写，只会传参数\n",
    "class LSTM(nn.Module):\n",
    "    def __init__(self, input_dim, hidden_dim, num_layers, output_dim):\n",
    "        super(LSTM, self).__init__()\n",
    "        self.hidden_dim = hidden_dim\n",
    "        self.num_layers = num_layers\n",
    "        \n",
    "        self.lstm = nn.LSTM(input_dim, hidden_dim, num_layers, batch_first=True)\n",
    "        self.fc = nn.Linear(hidden_dim, output_dim)\n",
    "\n",
    "    def forward(self, x):\n",
    "        h0 = torch.zeros(self.num_layers, x.size(0), self.hidden_dim).requires_grad_()\n",
    "        c0 = torch.zeros(self.num_layers, x.size(0), self.hidden_dim).requires_grad_()\n",
    "        out, (hn, cn) = self.lstm(x, (h0.detach(), c0.detach()))\n",
    "        out = self.fc(out[:, -1, :]) \n",
    "        return out"
   ]
  },
  {
   "cell_type": "code",
   "execution_count": null,
   "metadata": {},
   "outputs": [],
   "source": [
    "model = LSTM(input_dim=input_dim, hidden_dim=hidden_dim, output_dim=output_dim, num_layers=num_layers)\n",
    "#创建了一个LSTM模型。使用给定的超参数input_dim、hidden_dim、output_dim和num_layers来初始化LSTM模型的输入维度、隐藏层维度、输出维度和层数。\n",
    "criterion = torch.nn.MSELoss()\n",
    "#定义了一个均方误差损失函数（MSELoss）。这个损失函数用于衡量模型输出与目标输出之间的差异。\n",
    "optimiser = torch.optim.Adam(model.parameters(), lr=0.01)\n",
    "\n",
    "#定义了一个Adam优化器。该优化器用于更新模型的参数，以最小化损失函数。model.parameters()获取了LSTM模型的可学习参数，而lr=0.01表示学习率为0.01。"
   ]
  }
 ],
 "metadata": {
  "kernelspec": {
   "display_name": "Python 3",
   "language": "python",
   "name": "python3"
  },
  "language_info": {
   "codemirror_mode": {
    "name": "ipython",
    "version": 3
   },
   "file_extension": ".py",
   "mimetype": "text/x-python",
   "name": "python",
   "nbconvert_exporter": "python",
   "pygments_lexer": "ipython3",
   "version": "3.11.6"
  }
 },
 "nbformat": 4,
 "nbformat_minor": 2
}
